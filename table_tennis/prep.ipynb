{
 "cells": [
  {
   "cell_type": "markdown",
   "metadata": {},
   "source": [
    "卓球の球がテーブルに当たったかどうかを音から検知してみる"
   ]
  },
  {
   "cell_type": "markdown",
   "metadata": {},
   "source": [
    "最初にサンプル音源の 「時間-音の強度」のグラフとこれを短時間フーリエ変換して得られる 「時間-周波数」のグラフを図示する。"
   ]
  },
  {
   "cell_type": "code",
   "execution_count": 1,
   "metadata": {
    "collapsed": true
   },
   "outputs": [],
   "source": [
    "import numpy as np\n",
    "import matplotlib.pyplot as plt\n",
    "import wave\n",
    "import pickle\n",
    "%matplotlib inline"
   ]
  },
  {
   "cell_type": "code",
   "execution_count": 5,
   "metadata": {},
   "outputs": [
    {
     "data": {
      "image/png": "[encoded data removed]",
      "text/plain": [
       "<matplotlib.figure.Figure at 0x116959cc0>"
      ]
     },
     "metadata": {},
     "output_type": "display_data"
    }
   ],
   "source": [
    "# 短時間フーリエ変換\n",
    "def stft_core(x, win, step,IMG_SIZE):\n",
    "    l = len(x) # 入力信号の長さ\n",
    "    N = len(win) # 窓幅\n",
    "    M = int(np.ceil(float(l - N + step) / step)) # スペクトログラムの時間フレーム数\n",
    "    \n",
    "    new_x = np.zeros(N + ((M - 1) * int(step)), dtype = float)\n",
    "    new_x[: l] = x # 信号をいい感じの長さにする\n",
    "    \n",
    "    X = np.zeros([M, N], dtype = complex) # スペクトログラムの初期化(複素数型)\n",
    "    X2 = np.zeros([(M-M%IMG_SIZE+IMG_SIZE), N], dtype = complex) # あとで使う\n",
    "    \n",
    "    for m in range(M):\n",
    "        start = int(step * m)\n",
    "        X[m, :] = np.fft.fft(new_x[start : start + N] * win)\n",
    "        X2[m, :] = np.fft.fft(new_x[start : start + N] * win)\n",
    "\n",
    "    return X,X2\n",
    "\n",
    "\n",
    "def stft(filename,IMG_SIZE):\n",
    "    # file read\n",
    "    wf = wave.open(filename , \"r\" )\n",
    "    fs = wf.getframerate()  # サンプリング周波数\n",
    "    g = wf.readframes(wf.getnframes())\n",
    "    wf.close()\n",
    "\n",
    "    # -1～1に正規化\n",
    "    g = np.frombuffer(g, dtype= \"int16\")/32768.0    \n",
    "\n",
    "    #fftLen = IMG_SIZE # とりあえず\n",
    "    fftLen = (IMG_SIZE-1)*2\n",
    "    win = np.hamming(fftLen) # ハミング窓\n",
    "    step = fftLen / 2                 \n",
    "\n",
    "    spectrogram,spectrogram2 = stft_core(g, win, step,IMG_SIZE)\n",
    "\n",
    "    ### Plot\n",
    "    fig = plt.figure()\n",
    "    fig.add_subplot(211)\n",
    "    plt.plot(g)\n",
    "    plt.xlim([0, len(g)])\n",
    "    plt.title(\"Input signal\", fontsize = 10)\n",
    "    \n",
    "    fig.add_subplot(212)\n",
    "    plt.imshow(abs(spectrogram[:, : int(fftLen / 2 + 1)].T), aspect = \"auto\", origin = \"lower\")\n",
    "    plt.title(\"Spectrogram\", fontsize = 10)\n",
    "    # Spectrogramの周波数は実際にはfreqList = np.fft.fftfreq(fftLen, d=1.0/fs) \n",
    "    plt.tight_layout()\n",
    "    plt.show()\n",
    "    \n",
    "    return spectrogram2, fftLen, g\n",
    "\n",
    "\n",
    "if __name__ == \"__main__\":\n",
    "    filename = \"sound.wav\"\n",
    "    IMG_SIZE = 256\n",
    "    spectrogram2, fftLen, g = stft(filename,IMG_SIZE)"
   ]
  },
  {
   "cell_type": "markdown",
   "metadata": {},
   "source": [
    "\n",
    "次に学習させるためのinputデータをつくる\n",
    "\n",
    "短時間フーリエ変換データを一定時間ごとに区切って256✕256✕n枚の画像データのようにする\n"
   ]
  },
  {
   "cell_type": "code",
   "execution_count": 3,
   "metadata": {},
   "outputs": [
    {
     "data": {
      "image/png": "[encoded data removed]",
      "text/plain": [
       "<matplotlib.figure.Figure at 0x112f28a20>"
      ]
     },
     "metadata": {},
     "output_type": "display_data"
    }
   ],
   "source": [
    "def calc_data(spectrogram2, fftLen,IMG_SIZE):\n",
    "    #\"\"\"\n",
    "    def min_max_normalixstion(x):\n",
    "        x_min = x.min()\n",
    "        x_max = x.max()\n",
    "        x_norm = ((x-x_min)/(x_max - x_min)*255).astype(\"uint8\")\n",
    "        return x_norm\n",
    "    \"\"\"\n",
    "    def min_max_normalixstion(x):\n",
    "        return x\n",
    "    \"\"\"\n",
    "\n",
    "    data_tmp = min_max_normalixstion(abs(spectrogram2[:, : int(fftLen / 2 + 1)]))\n",
    "    data = data_tmp.reshape(int((len(data_tmp)*IMG_SIZE)/(IMG_SIZE*IMG_SIZE)),IMG_SIZE,IMG_SIZE)\n",
    "    \n",
    "    row, col = 1, 3\n",
    "    fig = plt.figure()\n",
    "    for i in range(row*col):\n",
    "        sp = fig.add_subplot(row, col, i+1)  \n",
    "        sp.imshow(data[i], cmap='gray', interpolation='none')\n",
    "    plt.show()\n",
    "    \n",
    "    data = data.reshape(data.shape[0],data.shape[1],data.shape[2],1)\n",
    "    \n",
    "    return data\n",
    "\n",
    "if __name__ == \"__main__\":\n",
    "    data = calc_data(spectrogram2, fftLen,IMG_SIZE)"
   ]
  },
  {
   "cell_type": "markdown",
   "metadata": {},
   "source": [
    "以上でlen(data)/256 = 3パターンのinputデータの作成が終了\n",
    "\n",
    "次にこれらのデータに、球がテーブルにあった音を含むかどうかのラベルづけをおこなう"
   ]
  },
  {
   "cell_type": "markdown",
   "metadata": {},
   "source": [
    "ここで卓球の球がテーブルに当たったときの音は下図より26750, 72600, 132800あたりである"
   ]
  },
  {
   "cell_type": "code",
   "execution_count": 6,
   "metadata": {},
   "outputs": [
    {
     "data": {
      "image/png": "[encoded data removed]",
      "text/plain": [
       "<matplotlib.figure.Figure at 0x116948940>"
      ]
     },
     "metadata": {},
     "output_type": "display_data"
    }
   ],
   "source": [
    "fig = plt.figure(figsize=(6,6))\n",
    "\n",
    "fig.add_subplot(411)\n",
    "plt.plot(g)\n",
    "plt.xlim([0, len(g)])\n",
    "plt.title(\"Input signal\", fontsize = 10)\n",
    "\n",
    "fig.add_subplot(412)\n",
    "plt.plot(g)\n",
    "plt.xlim([26000, 28000])\n",
    "\n",
    "fig.add_subplot(413)\n",
    "plt.plot(g)\n",
    "plt.xlim([72000, 74000])\n",
    " \n",
    "fig.add_subplot(414)\n",
    "plt.plot(g)\n",
    "plt.xlim([132000, 134000])\n",
    "\n",
    "plt.tight_layout()\n",
    "plt.show()"
   ]
  },
  {
   "cell_type": "markdown",
   "metadata": {},
   "source": [
    "フーリエ変換後で考えると"
   ]
  },
  {
   "cell_type": "code",
   "execution_count": 7,
   "metadata": {},
   "outputs": [
    {
     "name": "stdout",
     "output_type": "stream",
     "text": [
      "[104, 284, 520]\n"
     ]
    }
   ],
   "source": [
    "ydata_tmp = [26750,72600,132800]\n",
    "ydata_ft = []\n",
    "for i in range(3):\n",
    "    ydata_ft.append(int(ydata_tmp[i]/fftLen*2))\n",
    "print(ydata_ft)"
   ]
  },
  {
   "cell_type": "markdown",
   "metadata": {},
   "source": [
    "次にこれらがどの256区間に入るか調べてそれらを目的変数とする"
   ]
  },
  {
   "cell_type": "code",
   "execution_count": 8,
   "metadata": {},
   "outputs": [
    {
     "name": "stdout",
     "output_type": "stream",
     "text": [
      "[[0 1]\n",
      " [0 1]\n",
      " [0 1]]\n"
     ]
    }
   ],
   "source": [
    "target = np.zeros([int(len(data)),2], dtype = \"uint8\")\n",
    "target[:,0]=1\n",
    "\n",
    "for i in range(len(ydata_ft)):\n",
    "    tmp = int(ydata_ft[i]/256)\n",
    "    target[tmp][0]=0\n",
    "    target[tmp][1]=1\n",
    "    \n",
    "print(target)"
   ]
  },
  {
   "cell_type": "markdown",
   "metadata": {},
   "source": [
    "これで目的変数のセット完了"
   ]
  },
  {
   "cell_type": "code",
   "execution_count": 374,
   "metadata": {
    "collapsed": true
   },
   "outputs": [],
   "source": [
    "with open('target_0.pickle', mode='wb') as f:\n",
    "     pickle.dump(target, f)\n",
    "\n",
    "data = data.reshape(data.shape[0],data.shape[1],data.shape[2],1)\n",
    "with open('data_0.pickle', mode='wb') as f:\n",
    "     pickle.dump(data, f)"
   ]
  },
  {
   "cell_type": "code",
   "execution_count": 375,
   "metadata": {
    "collapsed": true
   },
   "outputs": [],
   "source": [
    "with open('target.pickle', mode='rb') as f:\n",
    "    target_tmp = pickle.load(f)\n",
    "\n",
    "with open('data.pickle', mode='rb') as f:\n",
    "    data_tmp = pickle.load(f)"
   ]
  },
  {
   "cell_type": "markdown",
   "metadata": {},
   "source": [
    "\n",
    "以上の要領で他の音源データについても入力データを作成していく\n"
   ]
  },
  {
   "cell_type": "code",
   "execution_count": null,
   "metadata": {
    "collapsed": true
   },
   "outputs": [],
   "source": [
    "if __name__ == \"__main__\":\n",
    "    filename = \"sound1.wav\"\n",
    "    IMG_SIZE = 256\n",
    "    spectrogram2, fftLen = stft(filename,IMG_SIZE)\n",
    "    \n",
    "    data = calc_data(spectrogram2, fftLen,IMG_SIZE)\n",
    "    \n",
    "    ydata_tmp = [228438,262174,320607,355446,648711,677596,726768,780349,802840,846279,1189377,1212529,1253101,1286397,1315282,\n",
    "    1677564,1712623,1762456,1822212,1853743,1884834,1919673,2210953,2250864,2291877,2344797,2377210,2709283,2754706,2802775,\n",
    "    2841583,2871792,2910379,2933311,2974324,3008061,3068478,3096261,3143889,3176082,3243114,3285891,3633399,3664269,3728434,\n",
    "    4116514,4151353,4208463,4510107,4540536,4599850,4677687,4709439,4763461,5077894,5111851,5162125,5207548,5239962,5543370,\n",
    "    5575342,5952397,5983488,6035967,6383034,6418755,6464178,6506073,6533856,6570459,6613897,6660423,6693939,6736054,7028217,\n",
    "    7066363,7119283,7171321,7463263,7495897,7558519,7627315,7693465,7721910,7988935,8020908,8079561,8128732,8152105,8198631,\n",
    "    8223988,8288374,8351878,8395978,8799052,8838081,8879976,9198378,9235422,9278640,9344128,9406089,9443133,9474885,9508180,\n",
    "    9545886,9821731,9853263,9889425,10232302,10263393,10305288,10366587,10396134,10447731,10479483]\n"
   ]
  },
  {
   "cell_type": "code",
   "execution_count": 102,
   "metadata": {},
   "outputs": [
    {
     "name": "stdout",
     "output_type": "stream",
     "text": [
      "[104, 284, 520]\n"
     ]
    }
   ],
   "source": [
    "ydata_ft = []\n",
    "for i in range(len(ydata_tmp)):\n",
    "    ydata_ft.append(int(ydata_tmp[i]/fftLen*2))\n",
    "print(ydata_ft)"
   ]
  },
  {
   "cell_type": "code",
   "execution_count": 74,
   "metadata": {
    "collapsed": true
   },
   "outputs": [],
   "source": [
    "target = np.zeros([int(len(data)),2], dtype = \"uint8\")\n",
    "target[:,0]=1\n",
    "\n",
    "for i in range(len(ydata_ft)):\n",
    "    tmp = int(ydata_ft[i]/256)\n",
    "    target[tmp][0]=0\n",
    "    target[tmp][1]=1"
   ]
  },
  {
   "cell_type": "code",
   "execution_count": 81,
   "metadata": {
    "collapsed": true
   },
   "outputs": [],
   "source": [
    "with open('target.pickle', mode='wb') as f:\n",
    "     pickle.dump(target, f)\n",
    "\n",
    "data = data.reshape(data.shape[0],data.shape[1],data.shape[2],1)\n",
    "with open('data.pickle', mode='wb') as f:\n",
    "     pickle.dump(data, f)"
   ]
  },
  {
   "cell_type": "code",
   "execution_count": null,
   "metadata": {
    "collapsed": true
   },
   "outputs": [],
   "source": []
  }
 ],
 "metadata": {
  "kernelspec": {
   "display_name": "Python 3",
   "language": "python",
   "name": "python3"
  },
  "language_info": {
   "codemirror_mode": {
    "name": "ipython",
    "version": 3
   },
   "file_extension": ".py",
   "mimetype": "text/x-python",
   "name": "python",
   "nbconvert_exporter": "python",
   "pygments_lexer": "ipython3",
   "version": "3.6.3"
  }
 },
 "nbformat": 4,
 "nbformat_minor": 2
}
