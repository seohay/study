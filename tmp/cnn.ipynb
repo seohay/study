{
 "cells": [
  {
   "cell_type": "code",
   "execution_count": 26,
   "metadata": {
    "collapsed": true
   },
   "outputs": [],
   "source": [
    "import numpy as np\n",
    "import tensorflow as tf\n",
    "import matplotlib.pyplot as plt\n",
    "from sklearn.utils import shuffle\n",
    "from sklearn.metrics import f1_score\n",
    "from sklearn.model_selection import train_test_split\n",
    "from tensorflow.examples.tutorials.mnist import input_data\n",
    "\n",
    "rng = np.random.RandomState(1234)\n",
    "random_state = 42"
   ]
  },
  {
   "cell_type": "code",
   "execution_count": 4,
   "metadata": {},
   "outputs": [
    {
     "name": "stdout",
     "output_type": "stream",
     "text": [
      "Successfully downloaded train-images-idx3-ubyte.gz 9912422 bytes.\n",
      "Extracting MNIST_data/train-images-idx3-ubyte.gz\n",
      "Successfully downloaded train-labels-idx1-ubyte.gz 28881 bytes.\n",
      "Extracting MNIST_data/train-labels-idx1-ubyte.gz\n",
      "Successfully downloaded t10k-images-idx3-ubyte.gz 1648877 bytes.\n",
      "Extracting MNIST_data/t10k-images-idx3-ubyte.gz\n",
      "Successfully downloaded t10k-labels-idx1-ubyte.gz 4542 bytes.\n",
      "Extracting MNIST_data/t10k-labels-idx1-ubyte.gz\n"
     ]
    }
   ],
   "source": [
    "mnist = input_data.read_data_sets('MNIST_data/', one_hot=True)\n",
    "mnist_X, mnist_y = mnist.train.images, mnist.train.labels\n",
    "mnist_X = mnist_X.reshape((mnist_X.shape[0], 28, 28, 1))\n",
    "\n",
    "train_X, valid_X, train_y, valid_y = train_test_split(mnist_X, mnist_y, test_size=0.1, random_state=42)"
   ]
  },
  {
   "cell_type": "code",
   "execution_count": 22,
   "metadata": {
    "collapsed": true
   },
   "outputs": [],
   "source": [
    "class BatchNorm:\n",
    "    def __init__(self, shape, epsilon=np.float32(1e-5)):\n",
    "        self.gamma = tf.Variable(np.ones(shape, dtype='float32'), name='gamma')\n",
    "        self.beta  = tf.Variable(np.zeros(shape, dtype='float32'), name='beta')\n",
    "        self.epsilon = epsilon\n",
    "\n",
    "    def f_prop(self, x):\n",
    "        if len(x.get_shape()) == 2:\n",
    "            mean, var = tf.nn.moments(x, axes=0, keepdims=True)\n",
    "            std = tf.sqrt(var + self.epsilon)\n",
    "        elif len(x.get_shape()) == 4:\n",
    "            mean, var = tf.nn.moments(x, axes=(0,1,2), keep_dims=True)\n",
    "            std = tf.sqrt(var + self.epsilon)\n",
    "        normalized_x = (x - mean) / std\n",
    "        return self.gamma * normalized_x + self.beta\n",
    "    \n",
    "class Conv:\n",
    "    def __init__(self, filter_shape, function=lambda x: x, strides=[1,1,1,1], padding='VALID'):\n",
    "        #\"\"\"\n",
    "        # Xavier Initialization\n",
    "        fan_in = np.prod(filter_shape[:3]) #配列の最初の３つの積\n",
    "        fan_out = np.prod(filter_shape[:2]) * filter_shape[3]\n",
    "        self.W = tf.Variable(rng.uniform(\n",
    "                        low=-np.sqrt(6/(fan_in + fan_out)),\n",
    "                        high=np.sqrt(6/(fan_in + fan_out)),\n",
    "                        size=filter_shape\n",
    "                    ).astype('float32'), name='W')\n",
    "        \"\"\"\n",
    "        initial = tf.truncated_normal(filter_shape, stddev=0.1)\n",
    "        self.W = tf.Variable(initial)\n",
    "        \"\"\" \n",
    "        self.b = tf.Variable(np.zeros((filter_shape[3]), dtype='float32'), name='b') # バイアスはフィルタごと\n",
    "        self.function = function\n",
    "        self.strides = strides\n",
    "        self.padding = padding\n",
    "\n",
    "    def f_prop(self, x):\n",
    "        u = tf.nn.conv2d(x, self.W, strides=self.strides, padding=self.padding) + self.b\n",
    "        return self.function(u)\n",
    "    \n",
    "class Pooling:\n",
    "    def __init__(self, ksize=[1,2,2,1], strides=[1,2,2,1], padding='VALID'):\n",
    "        self.ksize = ksize\n",
    "        self.strides = strides\n",
    "        self.padding = padding\n",
    "    \n",
    "    def f_prop(self, x):\n",
    "        return tf.nn.max_pool(x, ksize=self.ksize, strides=self.strides, padding=self.padding)\n",
    "    \n",
    "class Flatten:\n",
    "    def f_prop(self, x):\n",
    "        return tf.reshape(x, (-1, np.prod(x.get_shape().as_list()[1:])))\n",
    "    \n",
    "class Dense:\n",
    "    def __init__(self, in_dim, out_dim, function=lambda x: x):\n",
    "        # Xavier\n",
    "        self.W = tf.Variable(rng.uniform(\n",
    "                        low=-np.sqrt(6/(in_dim + out_dim)),\n",
    "                        high=np.sqrt(6/(in_dim + out_dim)),\n",
    "                        size=(in_dim, out_dim)\n",
    "                    ).astype('float32'), name='W')\n",
    "        self.b = tf.Variable(np.zeros([out_dim]).astype('float32'))\n",
    "        self.function = function\n",
    "\n",
    "    def f_prop(self, x):\n",
    "        return self.function(tf.matmul(x, self.W) + self.b)\n",
    "    \n",
    "class Activation:\n",
    "    def __init__(self, function=lambda x: x):\n",
    "        self.function = function\n",
    "    \n",
    "    def f_prop(self, x):\n",
    "        return self.function(x)"
   ]
  },
  {
   "cell_type": "code",
   "execution_count": 23,
   "metadata": {
    "collapsed": true
   },
   "outputs": [],
   "source": [
    "layers = [ # (縦の次元数)x(横の次元数)x(チャネル数)\n",
    "    Conv((3, 3, 3, 32)), # 32x32x3 -> 30x30x32\n",
    "    BatchNorm((30, 30, 32)),\n",
    "    Activation(tf.nn.relu),\n",
    "    Pooling((1, 2, 2, 1)), # 30x30x32 -> 15x15x32\n",
    "    Conv((3, 3, 32, 64)), # 15x15x32 -> 13x13x64\n",
    "    BatchNorm((13, 13, 64)),\n",
    "    Activation(tf.nn.relu),\n",
    "    Pooling(((1, 2, 2, 1))), # 13x13x64 -> 6x6x64\n",
    "    Conv((3, 3, 64, 128)), # 6x6x64 -> 4x4x128\n",
    "    BatchNorm((4, 4, 128)),\n",
    "    Activation(tf.nn.relu),\n",
    "    Pooling((1, 2, 2, 1)), # 4x4x128 -> 2x2x128\n",
    "    Flatten(),\n",
    "    Dense(2*2*128, 256, tf.nn.relu),\n",
    "    Dense(256, 10, tf.nn.softmax)\n",
    "]\n",
    "\n",
    "layers = [                            # (縦の次元数)x(横の次元数)x(チャネル数)\n",
    "    Conv((5, 5, 1, 20)),  # 28x28x 1 -> 24x24x20\n",
    "    BatchNorm((24, 24, 20)),\n",
    "    Activation(tf.nn.relu),\n",
    "    Pooling((1, 2, 2, 1)),            # 24x24x20 -> 12x12x20\n",
    "    Conv((5, 5, 20, 50)), # 12x12x20 ->  8x 8x50\n",
    "    BatchNorm((8, 8, 50)),\n",
    "    Activation(tf.nn.relu),\n",
    "    Pooling((1, 2, 2, 1)),            #  8x 8x50 ->  4x 4x50\n",
    "    Flatten(),\n",
    "    Dense(4*4*50, 10, tf.nn.softmax)\n",
    "]\n",
    "\n",
    "\n",
    "\n",
    "x = tf.placeholder(tf.float32, [None, 28, 28, 1])\n",
    "t = tf.placeholder(tf.float32, [None, 10])\n",
    "\n",
    "def f_props(layers, x):\n",
    "    for layer in layers:\n",
    "        x = layer.f_prop(x)\n",
    "    return x\n",
    "\n",
    "y = f_props(layers, x)\n",
    "\n",
    "cost = -tf.reduce_mean(tf.reduce_sum(t * tf.log(tf.clip_by_value(y, 1e-10, 1.0)), axis=1))\n",
    "train = tf.train.GradientDescentOptimizer(0.01).minimize(cost)\n",
    "\n",
    "valid = tf.argmax(y, 1)"
   ]
  },
  {
   "cell_type": "code",
   "execution_count": 24,
   "metadata": {},
   "outputs": [
    {
     "name": "stdout",
     "output_type": "stream",
     "text": [
      "EPOCH:: 1, Validation cost: 0.145, Validation F1: 0.959\n"
     ]
    }
   ],
   "source": [
    "n_epochs = 1#10\n",
    "batch_size = 100\n",
    "n_batches = train_X.shape[0]//batch_size\n",
    "\n",
    "init = tf.global_variables_initializer()\n",
    "with tf.Session() as sess:\n",
    "    sess.run(init)\n",
    "    for epoch in range(n_epochs):\n",
    "        train_X, train_y = shuffle(train_X, train_y, random_state=random_state)\n",
    "        for i in range(n_batches):\n",
    "            start = i * batch_size\n",
    "            end = start + batch_size\n",
    "            sess.run(train, feed_dict={x: train_X[start:end], t: train_y[start:end]})\n",
    "        pred_y, valid_cost = sess.run([valid, cost], feed_dict={x: valid_X, t: valid_y})\n",
    "        print('EPOCH:: %i, Validation cost: %.3f, Validation F1: %.3f' % (epoch + 1, valid_cost, f1_score(np.argmax(valid_y, 1).astype('int32'), pred_y, average='macro')))"
   ]
  },
  {
   "cell_type": "code",
   "execution_count": null,
   "metadata": {
    "collapsed": true
   },
   "outputs": [],
   "source": []
  }
 ],
 "metadata": {
  "kernelspec": {
   "display_name": "Python 3",
   "language": "python",
   "name": "python3"
  },
  "language_info": {
   "codemirror_mode": {
    "name": "ipython",
    "version": 3
   },
   "file_extension": ".py",
   "mimetype": "text/x-python",
   "name": "python",
   "nbconvert_exporter": "python",
   "pygments_lexer": "ipython3",
   "version": "3.5.3"
  }
 },
 "nbformat": 4,
 "nbformat_minor": 2
}
